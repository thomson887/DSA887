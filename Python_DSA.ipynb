{
  "nbformat": 4,
  "nbformat_minor": 0,
  "metadata": {
    "colab": {
      "provenance": [],
      "authorship_tag": "ABX9TyPB0IR6lXhEDz9aZJLYtDyF",
      "include_colab_link": true
    },
    "kernelspec": {
      "name": "python3",
      "display_name": "Python 3"
    },
    "language_info": {
      "name": "python"
    }
  },
  "cells": [
    {
      "cell_type": "markdown",
      "metadata": {
        "id": "view-in-github",
        "colab_type": "text"
      },
      "source": [
        "<a href=\"https://colab.research.google.com/github/thomson887/DSA887/blob/main/Python_DSA.ipynb\" target=\"_parent\"><img src=\"https://colab.research.google.com/assets/colab-badge.svg\" alt=\"Open In Colab\"/></a>"
      ]
    },
    {
      "cell_type": "markdown",
      "source": [
        "PYTHON DSA '/n'\n",
        "[Youtube Course Link](https://www.youtube.com/watch?v=pkYVOmU3MgA&t=315s)"
      ],
      "metadata": {
        "id": "yNFfFz0uTlMG"
      }
    },
    {
      "cell_type": "code",
      "source": [
        "import math"
      ],
      "metadata": {
        "id": "-MGsSGnbTi4I"
      },
      "execution_count": 1,
      "outputs": []
    },
    {
      "cell_type": "code",
      "execution_count": 2,
      "metadata": {
        "colab": {
          "base_uri": "https://localhost:8080/"
        },
        "id": "lM3QUlhpTdap",
        "outputId": "d41c01aa-889a-49e0-feba-0a6005e47f16"
      },
      "outputs": [
        {
          "output_type": "execute_result",
          "data": {
            "text/plain": [
              "7.0"
            ]
          },
          "metadata": {},
          "execution_count": 2
        }
      ],
      "source": [
        "math.sqrt(49)"
      ]
    },
    {
      "cell_type": "markdown",
      "source": [
        "1. We need to write a program to find the position of a given number in a list arranged in descending order. Also minimize the number of times we access elements from the list.\n",
        "Input: cards- arranged in descending order\n",
        "Query: number whose position we need to determine.\n",
        "Output: the position of the card in the input deck."
      ],
      "metadata": {
        "id": "svnN59aaVdWi"
      }
    },
    {
      "cell_type": "code",
      "source": [
        "def locate_cards(cards, query):\n",
        "  if len(cards) <= 0:\n",
        "    return -1\n",
        "  for i in range(len(cards)):\n",
        "    print('cards', cards)\n",
        "    print('query',query)\n",
        "    print('i=', i)\n",
        "    if cards[i] == query:\n",
        "      print('position', i)\n",
        "      return i\n",
        "  return -1\n",
        "\n",
        "\n",
        "\n",
        "def locate_cards1(cards, query):\n",
        "  position = 0\n",
        "  while True:\n",
        "    if cards[position] == query:\n",
        "      return position\n",
        "\n",
        "    position += 1\n",
        "    if position == len(cards):\n",
        "      return -1\n"
      ],
      "metadata": {
        "id": "gjNv9jFiWyUY"
      },
      "execution_count": 3,
      "outputs": []
    },
    {
      "cell_type": "code",
      "source": [
        "cards = [13,11,10,7,4,3,1,0]\n",
        "query = 7\n",
        "output = 3"
      ],
      "metadata": {
        "id": "Mdk1aM9fWa8g"
      },
      "execution_count": 4,
      "outputs": []
    },
    {
      "cell_type": "code",
      "source": [
        "test = {\n",
        "    'input': {\n",
        "        'cards': [13,11,10,7,4,3,1,0],\n",
        "        'query': 7\n",
        "    },\n",
        "    'output' : 3\n",
        "}"
      ],
      "metadata": {
        "id": "SYBPKclFXCF_"
      },
      "execution_count": 5,
      "outputs": []
    },
    {
      "cell_type": "code",
      "source": [
        "tests = []\n",
        "tests.append(test)\n",
        "\n",
        "tests.append({\n",
        "    # number is at the end of the list\n",
        "    'input': {\n",
        "        'cards': [13,11,10,7,4,3,1,0],\n",
        "        'query': 1\n",
        "    },\n",
        "    'output': 6\n",
        "\n",
        "})"
      ],
      "metadata": {
        "id": "r5e1ZHKszCoy"
      },
      "execution_count": 6,
      "outputs": []
    },
    {
      "cell_type": "code",
      "source": [
        "# query is the first element\n",
        "tests.append({\n",
        "    'input': {\n",
        "        'cards': [4, 2, 1, -1],\n",
        "        'query': 4\n",
        "    },\n",
        "    'output': 0\n",
        "})\n",
        "\n",
        "# query is the last element\n",
        "tests.append({\n",
        "    'input': {\n",
        "        'cards': [3, -1, -9, -127],\n",
        "        'query': -127\n",
        "    },\n",
        "    'output': 3\n",
        "})\n",
        "\n",
        "# cards contains just one element, query\n",
        "tests.append({\n",
        "    'input': {\n",
        "        'cards': [6],\n",
        "        'query': 6\n",
        "    },\n",
        "    'output': 0\n",
        "})\n",
        "\n",
        "# cards does not contain query\n",
        "tests.append({\n",
        "    'input': {\n",
        "        'cards': [9, 7, 5, 2, -9],\n",
        "        'query': 4\n",
        "    },\n",
        "    'output': -1\n",
        "})\n",
        "\n",
        "# cards is empty\n",
        "tests.append({\n",
        "    'input': {\n",
        "        'cards': [],\n",
        "        'query': 7\n",
        "    },\n",
        "    'output': -1\n",
        "})\n",
        "\n",
        "# numbers can repeat in cards\n",
        "tests.append({\n",
        "    'input': {\n",
        "        'cards': [8, 8, 6, 6, 6, 6, 6, 3, 2, 2, 2, 0, 0, 0],\n",
        "        'query': 3\n",
        "    },\n",
        "    'output': 7\n",
        "})\n",
        "\n",
        "# query occurs multiple times\n",
        "tests.append({\n",
        "    'input': {\n",
        "        'cards': [8, 8, 6, 6, 6, 6, 6, 6, 3, 2, 2, 2, 0, 0, 0],\n",
        "        'query': 6\n",
        "    },\n",
        "    'output': 2\n",
        "})"
      ],
      "metadata": {
        "id": "CFErzBl6zwSU"
      },
      "execution_count": 7,
      "outputs": []
    },
    {
      "cell_type": "code",
      "source": [
        "tests"
      ],
      "metadata": {
        "colab": {
          "base_uri": "https://localhost:8080/"
        },
        "id": "l8MwJQmg6BaA",
        "outputId": "6ca2fd93-4753-409c-cb8b-a7a22563bfee"
      },
      "execution_count": 8,
      "outputs": [
        {
          "output_type": "execute_result",
          "data": {
            "text/plain": [
              "[{'input': {'cards': [13, 11, 10, 7, 4, 3, 1, 0], 'query': 7}, 'output': 3},\n",
              " {'input': {'cards': [13, 11, 10, 7, 4, 3, 1, 0], 'query': 1}, 'output': 6},\n",
              " {'input': {'cards': [4, 2, 1, -1], 'query': 4}, 'output': 0},\n",
              " {'input': {'cards': [3, -1, -9, -127], 'query': -127}, 'output': 3},\n",
              " {'input': {'cards': [6], 'query': 6}, 'output': 0},\n",
              " {'input': {'cards': [9, 7, 5, 2, -9], 'query': 4}, 'output': -1},\n",
              " {'input': {'cards': [], 'query': 7}, 'output': -1},\n",
              " {'input': {'cards': [8, 8, 6, 6, 6, 6, 6, 3, 2, 2, 2, 0, 0, 0], 'query': 3},\n",
              "  'output': 7},\n",
              " {'input': {'cards': [8, 8, 6, 6, 6, 6, 6, 6, 3, 2, 2, 2, 0, 0, 0],\n",
              "   'query': 6},\n",
              "  'output': 2}]"
            ]
          },
          "metadata": {},
          "execution_count": 8
        }
      ]
    },
    {
      "cell_type": "code",
      "source": [
        "result = locate_cards(cards, query)\n",
        "print(\"Final result is= \",result)"
      ],
      "metadata": {
        "colab": {
          "base_uri": "https://localhost:8080/"
        },
        "id": "zX42lVPbWkOX",
        "outputId": "9f82e749-94db-489f-d504-2ec0c2b45683"
      },
      "execution_count": 9,
      "outputs": [
        {
          "output_type": "stream",
          "name": "stdout",
          "text": [
            "cards [13, 11, 10, 7, 4, 3, 1, 0]\n",
            "query 7\n",
            "i= 0\n",
            "cards [13, 11, 10, 7, 4, 3, 1, 0]\n",
            "query 7\n",
            "i= 1\n",
            "cards [13, 11, 10, 7, 4, 3, 1, 0]\n",
            "query 7\n",
            "i= 2\n",
            "cards [13, 11, 10, 7, 4, 3, 1, 0]\n",
            "query 7\n",
            "i= 3\n",
            "position 3\n",
            "Final result is=  3\n"
          ]
        }
      ]
    },
    {
      "cell_type": "code",
      "source": [
        "result = locate_cards1(cards, query)\n",
        "print(result)"
      ],
      "metadata": {
        "colab": {
          "base_uri": "https://localhost:8080/"
        },
        "id": "J2Kfc7NipH5o",
        "outputId": "d2c8e343-410b-4056-b7f6-aa6ec9953265"
      },
      "execution_count": 10,
      "outputs": [
        {
          "output_type": "stream",
          "name": "stdout",
          "text": [
            "3\n"
          ]
        }
      ]
    },
    {
      "cell_type": "code",
      "source": [
        "locate_cards(**test['input']) == test['output']"
      ],
      "metadata": {
        "colab": {
          "base_uri": "https://localhost:8080/"
        },
        "id": "rGioyod_XUMA",
        "outputId": "393c5a9a-33f6-4d61-bb59-ef5ea9d51098"
      },
      "execution_count": 11,
      "outputs": [
        {
          "output_type": "stream",
          "name": "stdout",
          "text": [
            "cards [13, 11, 10, 7, 4, 3, 1, 0]\n",
            "query 7\n",
            "i= 0\n",
            "cards [13, 11, 10, 7, 4, 3, 1, 0]\n",
            "query 7\n",
            "i= 1\n",
            "cards [13, 11, 10, 7, 4, 3, 1, 0]\n",
            "query 7\n",
            "i= 2\n",
            "cards [13, 11, 10, 7, 4, 3, 1, 0]\n",
            "query 7\n",
            "i= 3\n",
            "position 3\n"
          ]
        },
        {
          "output_type": "execute_result",
          "data": {
            "text/plain": [
              "True"
            ]
          },
          "metadata": {},
          "execution_count": 11
        }
      ]
    },
    {
      "cell_type": "code",
      "source": [
        "print(cards[6//2])"
      ],
      "metadata": {
        "colab": {
          "base_uri": "https://localhost:8080/"
        },
        "id": "6djYZ-DE0JLK",
        "outputId": "ad0afbee-6aaa-4416-a52f-dade6653284c"
      },
      "execution_count": 12,
      "outputs": [
        {
          "output_type": "stream",
          "name": "stdout",
          "text": [
            "7\n"
          ]
        }
      ]
    },
    {
      "cell_type": "code",
      "source": [
        "#pip install jovian --upgrade"
      ],
      "metadata": {
        "id": "UPIX1dljoFBw"
      },
      "execution_count": 13,
      "outputs": []
    },
    {
      "cell_type": "code",
      "source": [
        "from jovian.pythondsa import evaluate_test_case, evaluate_test_cases"
      ],
      "metadata": {
        "id": "__V1vPvRoGMY"
      },
      "execution_count": 14,
      "outputs": []
    },
    {
      "cell_type": "code",
      "source": [
        "evaluate_test_cases(locate_cards, tests)"
      ],
      "metadata": {
        "colab": {
          "base_uri": "https://localhost:8080/"
        },
        "collapsed": true,
        "id": "xOD9g3v1oGSJ",
        "outputId": "ec458c37-72ea-4ab1-f54c-6c8b7373dcf2"
      },
      "execution_count": 15,
      "outputs": [
        {
          "output_type": "stream",
          "name": "stdout",
          "text": [
            "\n",
            "\u001b[1mTEST CASE #0\u001b[0m\n",
            "cards [13, 11, 10, 7, 4, 3, 1, 0]\n",
            "query 7\n",
            "i= 0\n",
            "cards [13, 11, 10, 7, 4, 3, 1, 0]\n",
            "query 7\n",
            "i= 1\n",
            "cards [13, 11, 10, 7, 4, 3, 1, 0]\n",
            "query 7\n",
            "i= 2\n",
            "cards [13, 11, 10, 7, 4, 3, 1, 0]\n",
            "query 7\n",
            "i= 3\n",
            "position 3\n",
            "\n",
            "Input:\n",
            "{'cards': [13, 11, 10, 7, 4, 3, 1, 0], 'query': 7}\n",
            "\n",
            "Expected Output:\n",
            "3\n",
            "\n",
            "\n",
            "Actual Output:\n",
            "3\n",
            "\n",
            "Execution Time:\n",
            "8.141 ms\n",
            "\n",
            "Test Result:\n",
            "\u001b[92mPASSED\u001b[0m\n",
            "\n",
            "\n",
            "\u001b[1mTEST CASE #1\u001b[0m\n",
            "cards [13, 11, 10, 7, 4, 3, 1, 0]\n",
            "query 1\n",
            "i= 0\n",
            "cards [13, 11, 10, 7, 4, 3, 1, 0]\n",
            "query 1\n",
            "i= 1\n",
            "cards [13, 11, 10, 7, 4, 3, 1, 0]\n",
            "query 1\n",
            "i= 2\n",
            "cards [13, 11, 10, 7, 4, 3, 1, 0]\n",
            "query 1\n",
            "i= 3\n",
            "cards [13, 11, 10, 7, 4, 3, 1, 0]\n",
            "query 1\n",
            "i= 4\n",
            "cards [13, 11, 10, 7, 4, 3, 1, 0]\n",
            "query 1\n",
            "i= 5\n",
            "cards [13, 11, 10, 7, 4, 3, 1, 0]\n",
            "query 1\n",
            "i= 6\n",
            "position 6\n",
            "\n",
            "Input:\n",
            "{'cards': [13, 11, 10, 7, 4, 3, 1, 0], 'query': 1}\n",
            "\n",
            "Expected Output:\n",
            "6\n",
            "\n",
            "\n",
            "Actual Output:\n",
            "6\n",
            "\n",
            "Execution Time:\n",
            "7.948 ms\n",
            "\n",
            "Test Result:\n",
            "\u001b[92mPASSED\u001b[0m\n",
            "\n",
            "\n",
            "\u001b[1mTEST CASE #2\u001b[0m\n",
            "cards [4, 2, 1, -1]\n",
            "query 4\n",
            "i= 0\n",
            "position 0\n",
            "\n",
            "Input:\n",
            "{'cards': [4, 2, 1, -1], 'query': 4}\n",
            "\n",
            "Expected Output:\n",
            "0\n",
            "\n",
            "\n",
            "Actual Output:\n",
            "0\n",
            "\n",
            "Execution Time:\n",
            "0.117 ms\n",
            "\n",
            "Test Result:\n",
            "\u001b[92mPASSED\u001b[0m\n",
            "\n",
            "\n",
            "\u001b[1mTEST CASE #3\u001b[0m\n",
            "cards [3, -1, -9, -127]\n",
            "query -127\n",
            "i= 0\n",
            "cards [3, -1, -9, -127]\n",
            "query -127\n",
            "i= 1\n",
            "cards [3, -1, -9, -127]\n",
            "query -127\n",
            "i= 2\n",
            "cards [3, -1, -9, -127]\n",
            "query -127\n",
            "i= 3\n",
            "position 3\n",
            "\n",
            "Input:\n",
            "{'cards': [3, -1, -9, -127], 'query': -127}\n",
            "\n",
            "Expected Output:\n",
            "3\n",
            "\n",
            "\n",
            "Actual Output:\n",
            "3\n",
            "\n",
            "Execution Time:\n",
            "1.465 ms\n",
            "\n",
            "Test Result:\n",
            "\u001b[92mPASSED\u001b[0m\n",
            "\n",
            "\n",
            "\u001b[1mTEST CASE #4\u001b[0m\n",
            "cards [6]\n",
            "query 6\n",
            "i= 0\n",
            "position 0\n",
            "\n",
            "Input:\n",
            "{'cards': [6], 'query': 6}\n",
            "\n",
            "Expected Output:\n",
            "0\n",
            "\n",
            "\n",
            "Actual Output:\n",
            "0\n",
            "\n",
            "Execution Time:\n",
            "0.253 ms\n",
            "\n",
            "Test Result:\n",
            "\u001b[92mPASSED\u001b[0m\n",
            "\n",
            "\n",
            "\u001b[1mTEST CASE #5\u001b[0m\n",
            "cards [9, 7, 5, 2, -9]\n",
            "query 4\n",
            "i= 0\n",
            "cards [9, 7, 5, 2, -9]\n",
            "query 4\n",
            "i= 1\n",
            "cards [9, 7, 5, 2, -9]\n",
            "query 4\n",
            "i= 2\n",
            "cards [9, 7, 5, 2, -9]\n",
            "query 4\n",
            "i= 3\n",
            "cards [9, 7, 5, 2, -9]\n",
            "query 4\n",
            "i= 4\n",
            "\n",
            "Input:\n",
            "{'cards': [9, 7, 5, 2, -9], 'query': 4}\n",
            "\n",
            "Expected Output:\n",
            "-1\n",
            "\n",
            "\n",
            "Actual Output:\n",
            "-1\n",
            "\n",
            "Execution Time:\n",
            "0.43 ms\n",
            "\n",
            "Test Result:\n",
            "\u001b[92mPASSED\u001b[0m\n",
            "\n",
            "\n",
            "\u001b[1mTEST CASE #6\u001b[0m\n",
            "\n",
            "Input:\n",
            "{'cards': [], 'query': 7}\n",
            "\n",
            "Expected Output:\n",
            "-1\n",
            "\n",
            "\n",
            "Actual Output:\n",
            "-1\n",
            "\n",
            "Execution Time:\n",
            "0.003 ms\n",
            "\n",
            "Test Result:\n",
            "\u001b[92mPASSED\u001b[0m\n",
            "\n",
            "\n",
            "\u001b[1mTEST CASE #7\u001b[0m\n",
            "cards [8, 8, 6, 6, 6, 6, 6, 3, 2, 2, 2, 0, 0, 0]\n",
            "query 3\n",
            "i= 0\n",
            "cards [8, 8, 6, 6, 6, 6, 6, 3, 2, 2, 2, 0, 0, 0]\n",
            "query 3\n",
            "i= 1\n",
            "cards [8, 8, 6, 6, 6, 6, 6, 3, 2, 2, 2, 0, 0, 0]\n",
            "query 3\n",
            "i= 2\n",
            "cards [8, 8, 6, 6, 6, 6, 6, 3, 2, 2, 2, 0, 0, 0]\n",
            "query 3\n",
            "i= 3\n",
            "cards [8, 8, 6, 6, 6, 6, 6, 3, 2, 2, 2, 0, 0, 0]\n",
            "query 3\n",
            "i= 4\n",
            "cards [8, 8, 6, 6, 6, 6, 6, 3, 2, 2, 2, 0, 0, 0]\n",
            "query 3\n",
            "i= 5\n",
            "cards [8, 8, 6, 6, 6, 6, 6, 3, 2, 2, 2, 0, 0, 0]\n",
            "query 3\n",
            "i= 6\n",
            "cards [8, 8, 6, 6, 6, 6, 6, 3, 2, 2, 2, 0, 0, 0]\n",
            "query 3\n",
            "i= 7\n",
            "position 7\n",
            "\n",
            "Input:\n",
            "{'cards': [8, 8, 6, 6, 6, 6, 6, 3, 2, 2, 2, 0, 0, 0], 'query': 3}\n",
            "\n",
            "Expected Output:\n",
            "7\n",
            "\n",
            "\n",
            "Actual Output:\n",
            "7\n",
            "\n",
            "Execution Time:\n",
            "1.496 ms\n",
            "\n",
            "Test Result:\n",
            "\u001b[92mPASSED\u001b[0m\n",
            "\n",
            "\n",
            "\u001b[1mTEST CASE #8\u001b[0m\n",
            "cards [8, 8, 6, 6, 6, 6, 6, 6, 3, 2, 2, 2, 0, 0, 0]\n",
            "query 6\n",
            "i= 0\n",
            "cards [8, 8, 6, 6, 6, 6, 6, 6, 3, 2, 2, 2, 0, 0, 0]\n",
            "query 6\n",
            "i= 1\n",
            "cards [8, 8, 6, 6, 6, 6, 6, 6, 3, 2, 2, 2, 0, 0, 0]\n",
            "query 6\n",
            "i= 2\n",
            "position 2\n",
            "\n",
            "Input:\n",
            "{'cards': [8, 8, 6, 6, 6, 6, 6, 6, 3, 2, 2, 2, 0, 0, 0], 'query': 6}\n",
            "\n",
            "Expected Output:\n",
            "2\n",
            "\n",
            "\n",
            "Actual Output:\n",
            "2\n",
            "\n",
            "Execution Time:\n",
            "0.36 ms\n",
            "\n",
            "Test Result:\n",
            "\u001b[92mPASSED\u001b[0m\n",
            "\n",
            "\n",
            "\u001b[1mSUMMARY\u001b[0m\n",
            "\n",
            "TOTAL: 9, \u001b[92mPASSED\u001b[0m: 9, \u001b[91mFAILED\u001b[0m: 0\n"
          ]
        },
        {
          "output_type": "execute_result",
          "data": {
            "text/plain": [
              "[(3, True, 8.141),\n",
              " (6, True, 7.948),\n",
              " (0, True, 0.117),\n",
              " (3, True, 1.465),\n",
              " (0, True, 0.253),\n",
              " (-1, True, 0.43),\n",
              " (-1, True, 0.003),\n",
              " (7, True, 1.496),\n",
              " (2, True, 0.36)]"
            ]
          },
          "metadata": {},
          "execution_count": 15
        }
      ]
    },
    {
      "cell_type": "code",
      "source": [
        "# using Binary Search Algorithm\n",
        "\n",
        "#Creating a helper function to capture the edge case where there are duplicate values in the cards list.\n",
        "\n",
        "def test_location(cards, query, mid):\n",
        "  mid_number = cards[mid]\n",
        "  print(\"mid: \", mid, \", mid_number: \", mid_number)\n",
        "  if mid_number == query:\n",
        "    if mid-1 >= 0 and cards[mid-1] == query:\n",
        "      return 'left'\n",
        "    else:\n",
        "      return 'found'\n",
        "  elif mid_number < query:\n",
        "    return 'left'\n",
        "  else:\n",
        "    return 'right'\n",
        "\n",
        "\n",
        "def locate_cards_binary(cards, query):\n",
        "  low , high = 0, len(cards)-1\n",
        "\n",
        "  while low <= high:\n",
        "    mid = (low + high) // 2\n",
        "    result = test_location(cards, query, mid)\n",
        "    print(\"low: \", low, \", high: \", high)\n",
        "\n",
        "    if result == 'found':\n",
        "      return mid\n",
        "    elif result == 'left':\n",
        "      high = mid - 1\n",
        "    elif result == 'right':\n",
        "      low = mid + 1\n",
        "\n",
        "  return -1"
      ],
      "metadata": {
        "id": "GfedgA5yoGYJ"
      },
      "execution_count": 16,
      "outputs": []
    },
    {
      "cell_type": "code",
      "source": [
        "result = locate_cards_binary(cards, query)\n",
        "print(\"Final result is= \",result)"
      ],
      "metadata": {
        "colab": {
          "base_uri": "https://localhost:8080/"
        },
        "id": "yGvQ6siVoGdu",
        "outputId": "b99c9877-9b8a-45f8-c7ed-616706f404ab"
      },
      "execution_count": 17,
      "outputs": [
        {
          "output_type": "stream",
          "name": "stdout",
          "text": [
            "mid:  3 , mid_number:  7\n",
            "low:  0 , high:  7\n",
            "Final result is=  3\n"
          ]
        }
      ]
    },
    {
      "cell_type": "code",
      "source": [
        "evaluate_test_cases(locate_cards_binary, tests)"
      ],
      "metadata": {
        "colab": {
          "base_uri": "https://localhost:8080/"
        },
        "id": "IFy398q1oGja",
        "outputId": "9502521f-e5d1-439a-c40c-8543ef6b9d78"
      },
      "execution_count": 18,
      "outputs": [
        {
          "output_type": "stream",
          "name": "stdout",
          "text": [
            "\n",
            "\u001b[1mTEST CASE #0\u001b[0m\n",
            "mid:  3 , mid_number:  7\n",
            "low:  0 , high:  7\n",
            "\n",
            "Input:\n",
            "{'cards': [13, 11, 10, 7, 4, 3, 1, 0], 'query': 7}\n",
            "\n",
            "Expected Output:\n",
            "3\n",
            "\n",
            "\n",
            "Actual Output:\n",
            "3\n",
            "\n",
            "Execution Time:\n",
            "0.113 ms\n",
            "\n",
            "Test Result:\n",
            "\u001b[92mPASSED\u001b[0m\n",
            "\n",
            "\n",
            "\u001b[1mTEST CASE #1\u001b[0m\n",
            "mid:  3 , mid_number:  7\n",
            "low:  0 , high:  7\n",
            "mid:  5 , mid_number:  3\n",
            "low:  4 , high:  7\n",
            "mid:  6 , mid_number:  1\n",
            "low:  6 , high:  7\n",
            "\n",
            "Input:\n",
            "{'cards': [13, 11, 10, 7, 4, 3, 1, 0], 'query': 1}\n",
            "\n",
            "Expected Output:\n",
            "6\n",
            "\n",
            "\n",
            "Actual Output:\n",
            "6\n",
            "\n",
            "Execution Time:\n",
            "0.345 ms\n",
            "\n",
            "Test Result:\n",
            "\u001b[92mPASSED\u001b[0m\n",
            "\n",
            "\n",
            "\u001b[1mTEST CASE #2\u001b[0m\n",
            "mid:  1 , mid_number:  2\n",
            "low:  0 , high:  3\n",
            "mid:  0 , mid_number:  4\n",
            "low:  0 , high:  0\n",
            "\n",
            "Input:\n",
            "{'cards': [4, 2, 1, -1], 'query': 4}\n",
            "\n",
            "Expected Output:\n",
            "0\n",
            "\n",
            "\n",
            "Actual Output:\n",
            "0\n",
            "\n",
            "Execution Time:\n",
            "0.218 ms\n",
            "\n",
            "Test Result:\n",
            "\u001b[92mPASSED\u001b[0m\n",
            "\n",
            "\n",
            "\u001b[1mTEST CASE #3\u001b[0m\n",
            "mid:  1 , mid_number:  -1\n",
            "low:  0 , high:  3\n",
            "mid:  2 , mid_number:  -9\n",
            "low:  2 , high:  3\n",
            "mid:  3 , mid_number:  -127\n",
            "low:  3 , high:  3\n",
            "\n",
            "Input:\n",
            "{'cards': [3, -1, -9, -127], 'query': -127}\n",
            "\n",
            "Expected Output:\n",
            "3\n",
            "\n",
            "\n",
            "Actual Output:\n",
            "3\n",
            "\n",
            "Execution Time:\n",
            "0.441 ms\n",
            "\n",
            "Test Result:\n",
            "\u001b[92mPASSED\u001b[0m\n",
            "\n",
            "\n",
            "\u001b[1mTEST CASE #4\u001b[0m\n",
            "mid:  0 , mid_number:  6\n",
            "low:  0 , high:  0\n",
            "\n",
            "Input:\n",
            "{'cards': [6], 'query': 6}\n",
            "\n",
            "Expected Output:\n",
            "0\n",
            "\n",
            "\n",
            "Actual Output:\n",
            "0\n",
            "\n",
            "Execution Time:\n",
            "0.186 ms\n",
            "\n",
            "Test Result:\n",
            "\u001b[92mPASSED\u001b[0m\n",
            "\n",
            "\n",
            "\u001b[1mTEST CASE #5\u001b[0m\n",
            "mid:  2 , mid_number:  5\n",
            "low:  0 , high:  4\n",
            "mid:  3 , mid_number:  2\n",
            "low:  3 , high:  4\n",
            "\n",
            "Input:\n",
            "{'cards': [9, 7, 5, 2, -9], 'query': 4}\n",
            "\n",
            "Expected Output:\n",
            "-1\n",
            "\n",
            "\n",
            "Actual Output:\n",
            "-1\n",
            "\n",
            "Execution Time:\n",
            "0.21 ms\n",
            "\n",
            "Test Result:\n",
            "\u001b[92mPASSED\u001b[0m\n",
            "\n",
            "\n",
            "\u001b[1mTEST CASE #6\u001b[0m\n",
            "\n",
            "Input:\n",
            "{'cards': [], 'query': 7}\n",
            "\n",
            "Expected Output:\n",
            "-1\n",
            "\n",
            "\n",
            "Actual Output:\n",
            "-1\n",
            "\n",
            "Execution Time:\n",
            "0.003 ms\n",
            "\n",
            "Test Result:\n",
            "\u001b[92mPASSED\u001b[0m\n",
            "\n",
            "\n",
            "\u001b[1mTEST CASE #7\u001b[0m\n",
            "mid:  6 , mid_number:  6\n",
            "low:  0 , high:  13\n",
            "mid:  10 , mid_number:  2\n",
            "low:  7 , high:  13\n",
            "mid:  8 , mid_number:  2\n",
            "low:  7 , high:  9\n",
            "mid:  7 , mid_number:  3\n",
            "low:  7 , high:  7\n",
            "\n",
            "Input:\n",
            "{'cards': [8, 8, 6, 6, 6, 6, 6, 3, 2, 2, 2, 0, 0, 0], 'query': 3}\n",
            "\n",
            "Expected Output:\n",
            "7\n",
            "\n",
            "\n",
            "Actual Output:\n",
            "7\n",
            "\n",
            "Execution Time:\n",
            "0.517 ms\n",
            "\n",
            "Test Result:\n",
            "\u001b[92mPASSED\u001b[0m\n",
            "\n",
            "\n",
            "\u001b[1mTEST CASE #8\u001b[0m\n",
            "mid:  7 , mid_number:  6\n",
            "low:  0 , high:  14\n",
            "mid:  3 , mid_number:  6\n",
            "low:  0 , high:  6\n",
            "mid:  1 , mid_number:  8\n",
            "low:  0 , high:  2\n",
            "mid:  2 , mid_number:  6\n",
            "low:  2 , high:  2\n",
            "\n",
            "Input:\n",
            "{'cards': [8, 8, 6, 6, 6, 6, 6, 6, 3, 2, 2, 2, 0, 0, 0], 'query': 6}\n",
            "\n",
            "Expected Output:\n",
            "2\n",
            "\n",
            "\n",
            "Actual Output:\n",
            "2\n",
            "\n",
            "Execution Time:\n",
            "1.765 ms\n",
            "\n",
            "Test Result:\n",
            "\u001b[92mPASSED\u001b[0m\n",
            "\n",
            "\n",
            "\u001b[1mSUMMARY\u001b[0m\n",
            "\n",
            "TOTAL: 9, \u001b[92mPASSED\u001b[0m: 9, \u001b[91mFAILED\u001b[0m: 0\n"
          ]
        },
        {
          "output_type": "execute_result",
          "data": {
            "text/plain": [
              "[(3, True, 0.113),\n",
              " (6, True, 0.345),\n",
              " (0, True, 0.218),\n",
              " (3, True, 0.441),\n",
              " (0, True, 0.186),\n",
              " (-1, True, 0.21),\n",
              " (-1, True, 0.003),\n",
              " (7, True, 0.517),\n",
              " (2, True, 1.765)]"
            ]
          },
          "metadata": {},
          "execution_count": 18
        }
      ]
    },
    {
      "cell_type": "code",
      "source": [
        "large_test = {\n",
        "    'input': {\n",
        "        'cards' : list(range(10000000,0,-1)),\n",
        "        'query': 2\n",
        "    },\n",
        "    'output': 9999998\n",
        "}"
      ],
      "metadata": {
        "id": "tVccSkjmoGoC"
      },
      "execution_count": 19,
      "outputs": []
    },
    {
      "cell_type": "code",
      "source": [
        "result, passed, runtime = evaluate_test_case(locate_cards, large_test, display=False)\n",
        "print(\"Result: {} \\nPassed: {}\\n Execution Time: {} ms\".format(result, passed, runtime))"
      ],
      "metadata": {
        "id": "UMjhUMFvoGsw"
      },
      "execution_count": null,
      "outputs": []
    },
    {
      "cell_type": "code",
      "source": [
        "result, passed, runtime = evaluate_test_case(locate_cards_binary, large_test, display=False)\n",
        "print(\"Result: {} \\nPassed: {}\\n Execution Time: {} ms\".format(result, passed, runtime))"
      ],
      "metadata": {
        "id": "voeM1tE7oGxd"
      },
      "execution_count": null,
      "outputs": []
    },
    {
      "cell_type": "code",
      "source": [],
      "metadata": {
        "id": "McttgtDyoG27"
      },
      "execution_count": null,
      "outputs": []
    },
    {
      "cell_type": "code",
      "source": [],
      "metadata": {
        "id": "3Stu6UFooHNT"
      },
      "execution_count": null,
      "outputs": []
    },
    {
      "cell_type": "code",
      "source": [],
      "metadata": {
        "id": "iPe_4qPWoHSP"
      },
      "execution_count": null,
      "outputs": []
    },
    {
      "cell_type": "code",
      "source": [],
      "metadata": {
        "id": "eE6NOPz9oHW_"
      },
      "execution_count": null,
      "outputs": []
    },
    {
      "cell_type": "code",
      "source": [],
      "metadata": {
        "id": "43bLNiYSoHbZ"
      },
      "execution_count": null,
      "outputs": []
    },
    {
      "cell_type": "code",
      "source": [],
      "metadata": {
        "id": "e9l7dMeuoHiV"
      },
      "execution_count": null,
      "outputs": []
    },
    {
      "cell_type": "code",
      "source": [],
      "metadata": {
        "id": "GkzdjfyEoH6J"
      },
      "execution_count": null,
      "outputs": []
    },
    {
      "cell_type": "code",
      "source": [],
      "metadata": {
        "id": "XFdeS58yoIAo"
      },
      "execution_count": null,
      "outputs": []
    },
    {
      "cell_type": "code",
      "source": [],
      "metadata": {
        "id": "tlv0vSkVoIGI"
      },
      "execution_count": null,
      "outputs": []
    },
    {
      "cell_type": "code",
      "source": [],
      "metadata": {
        "id": "-UKQD4bsoILg"
      },
      "execution_count": null,
      "outputs": []
    },
    {
      "cell_type": "code",
      "source": [],
      "metadata": {
        "id": "Uig02L3DoISq"
      },
      "execution_count": null,
      "outputs": []
    },
    {
      "cell_type": "code",
      "source": [],
      "metadata": {
        "id": "KJUdf5bCoIWT"
      },
      "execution_count": null,
      "outputs": []
    },
    {
      "cell_type": "code",
      "source": [],
      "metadata": {
        "id": "8Vi_J7nZoIcN"
      },
      "execution_count": null,
      "outputs": []
    },
    {
      "cell_type": "code",
      "source": [],
      "metadata": {
        "id": "vKgPQdJFoIhp"
      },
      "execution_count": null,
      "outputs": []
    },
    {
      "cell_type": "code",
      "source": [],
      "metadata": {
        "id": "Wo6GHGc5oInR"
      },
      "execution_count": null,
      "outputs": []
    }
  ]
}